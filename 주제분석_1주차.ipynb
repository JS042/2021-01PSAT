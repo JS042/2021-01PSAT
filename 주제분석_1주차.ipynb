{
 "cells": [
  {
   "cell_type": "markdown",
   "metadata": {
    "id": "7HzaSqtQP_qj"
   },
   "source": [
    "#1. 데이터 전처리"
   ]
  },
  {
   "cell_type": "code",
   "execution_count": 1,
   "metadata": {
    "id": "hDDjOoyo1iHf"
   },
   "outputs": [],
   "source": [
    "import numpy as np\n",
    "import pandas as pd"
   ]
  },
  {
   "cell_type": "code",
   "execution_count": 2,
   "metadata": {
    "colab": {
     "base_uri": "https://localhost:8080/"
    },
    "id": "u3DwFFOE2oVS",
    "outputId": "e3b289ef-fc31-4d46-b8f6-9cd2cc1f6054"
   },
   "outputs": [
    {
     "name": "stdout",
     "output_type": "stream",
     "text": [
      "/content/drive/MyDrive/Psat\n"
     ]
    }
   ],
   "source": [
    "cd drive/MyDrive/Psat"
   ]
  },
  {
   "cell_type": "markdown",
   "metadata": {
    "id": "m9C9_axSW_-L"
   },
   "source": [
    "##1.1 데이터 불러오기"
   ]
  },
  {
   "cell_type": "code",
   "execution_count": 3,
   "metadata": {
    "id": "IAa9hi54XCNX"
   },
   "outputs": [],
   "source": [
    "data = pd.read_csv('data.csv')"
   ]
  },
  {
   "cell_type": "markdown",
   "metadata": {
    "id": "_DozCf2zXIDq"
   },
   "source": [
    "##1.2 데이터 확인"
   ]
  },
  {
   "cell_type": "code",
   "execution_count": 4,
   "metadata": {
    "colab": {
     "base_uri": "https://localhost:8080/"
    },
    "id": "iDGzMvFQEB6L",
    "outputId": "602ca88c-d12d-4292-82de-46840fbdf7fe"
   },
   "outputs": [
    {
     "data": {
      "text/plain": [
       "1216553"
      ]
     },
     "execution_count": 4,
     "metadata": {
      "tags": []
     },
     "output_type": "execute_result"
    }
   ],
   "source": [
    "len(data)"
   ]
  },
  {
   "cell_type": "code",
   "execution_count": 5,
   "metadata": {
    "colab": {
     "base_uri": "https://localhost:8080/"
    },
    "id": "lvaW8vbDMHv0",
    "outputId": "3836c0ec-1501-4f87-bb0c-451ccfc5af4b"
   },
   "outputs": [
    {
     "data": {
      "text/plain": [
       "13"
      ]
     },
     "execution_count": 5,
     "metadata": {
      "tags": []
     },
     "output_type": "execute_result"
    }
   ],
   "source": [
    "len(data.columns)"
   ]
  },
  {
   "cell_type": "code",
   "execution_count": 6,
   "metadata": {
    "colab": {
     "base_uri": "https://localhost:8080/",
     "height": 564
    },
    "id": "iyMU__DYMH-S",
    "outputId": "49083544-6990-42fe-b449-0539b4225164"
   },
   "outputs": [
    {
     "name": "stdout",
     "output_type": "stream",
     "text": [
      "<class 'pandas.core.frame.DataFrame'>\n",
      "RangeIndex: 1216553 entries, 0 to 1216552\n",
      "Data columns (total 13 columns):\n",
      " #   Column                  Non-Null Count    Dtype  \n",
      "---  ------                  --------------    -----  \n",
      " 0   transaction_id          1216553 non-null  int64  \n",
      " 1   apartment_id            1216553 non-null  int64  \n",
      " 2   city                    1216553 non-null  object \n",
      " 3   dong                    1216553 non-null  object \n",
      " 4   jibun                   1216553 non-null  object \n",
      " 5   apt                     1216553 non-null  object \n",
      " 6   addr_kr                 1216553 non-null  object \n",
      " 7   exclusive_use_area      1216553 non-null  float64\n",
      " 8   year_of_completion      1216553 non-null  int64  \n",
      " 9   transaction_year_month  1216553 non-null  int64  \n",
      " 10  transaction_date        1216553 non-null  object \n",
      " 11  floor                   1216553 non-null  int64  \n",
      " 12  transaction_real_price  1216553 non-null  int64  \n",
      "dtypes: float64(1), int64(6), object(6)\n",
      "memory usage: 120.7+ MB\n"
     ]
    },
    {
     "data": {
      "text/html": [
       "<div>\n",
       "<style scoped>\n",
       "    .dataframe tbody tr th:only-of-type {\n",
       "        vertical-align: middle;\n",
       "    }\n",
       "\n",
       "    .dataframe tbody tr th {\n",
       "        vertical-align: top;\n",
       "    }\n",
       "\n",
       "    .dataframe thead th {\n",
       "        text-align: right;\n",
       "    }\n",
       "</style>\n",
       "<table border=\"1\" class=\"dataframe\">\n",
       "  <thead>\n",
       "    <tr style=\"text-align: right;\">\n",
       "      <th></th>\n",
       "      <th>transaction_id</th>\n",
       "      <th>apartment_id</th>\n",
       "      <th>city</th>\n",
       "      <th>dong</th>\n",
       "      <th>jibun</th>\n",
       "      <th>apt</th>\n",
       "      <th>addr_kr</th>\n",
       "      <th>exclusive_use_area</th>\n",
       "      <th>year_of_completion</th>\n",
       "      <th>transaction_year_month</th>\n",
       "      <th>transaction_date</th>\n",
       "      <th>floor</th>\n",
       "      <th>transaction_real_price</th>\n",
       "    </tr>\n",
       "  </thead>\n",
       "  <tbody>\n",
       "    <tr>\n",
       "      <th>0</th>\n",
       "      <td>0</td>\n",
       "      <td>7622</td>\n",
       "      <td>서울특별시</td>\n",
       "      <td>신교동</td>\n",
       "      <td>6-13</td>\n",
       "      <td>신현(101동)</td>\n",
       "      <td>신교동 6-13 신현(101동)</td>\n",
       "      <td>84.82</td>\n",
       "      <td>2002</td>\n",
       "      <td>200801</td>\n",
       "      <td>21~31</td>\n",
       "      <td>2</td>\n",
       "      <td>37500</td>\n",
       "    </tr>\n",
       "    <tr>\n",
       "      <th>1</th>\n",
       "      <td>1</td>\n",
       "      <td>5399</td>\n",
       "      <td>서울특별시</td>\n",
       "      <td>필운동</td>\n",
       "      <td>142</td>\n",
       "      <td>사직파크맨션</td>\n",
       "      <td>필운동 142 사직파크맨션</td>\n",
       "      <td>99.17</td>\n",
       "      <td>1973</td>\n",
       "      <td>200801</td>\n",
       "      <td>1~10</td>\n",
       "      <td>6</td>\n",
       "      <td>20000</td>\n",
       "    </tr>\n",
       "    <tr>\n",
       "      <th>2</th>\n",
       "      <td>2</td>\n",
       "      <td>3578</td>\n",
       "      <td>서울특별시</td>\n",
       "      <td>필운동</td>\n",
       "      <td>174-1</td>\n",
       "      <td>두레엘리시안</td>\n",
       "      <td>필운동 174-1 두레엘리시안</td>\n",
       "      <td>84.74</td>\n",
       "      <td>2007</td>\n",
       "      <td>200801</td>\n",
       "      <td>1~10</td>\n",
       "      <td>6</td>\n",
       "      <td>38500</td>\n",
       "    </tr>\n",
       "    <tr>\n",
       "      <th>3</th>\n",
       "      <td>3</td>\n",
       "      <td>10957</td>\n",
       "      <td>서울특별시</td>\n",
       "      <td>내수동</td>\n",
       "      <td>95</td>\n",
       "      <td>파크팰리스</td>\n",
       "      <td>내수동 95 파크팰리스</td>\n",
       "      <td>146.39</td>\n",
       "      <td>2003</td>\n",
       "      <td>200801</td>\n",
       "      <td>11~20</td>\n",
       "      <td>15</td>\n",
       "      <td>118000</td>\n",
       "    </tr>\n",
       "    <tr>\n",
       "      <th>4</th>\n",
       "      <td>4</td>\n",
       "      <td>10639</td>\n",
       "      <td>서울특별시</td>\n",
       "      <td>내수동</td>\n",
       "      <td>110-15</td>\n",
       "      <td>킹스매너</td>\n",
       "      <td>내수동 110-15 킹스매너</td>\n",
       "      <td>194.43</td>\n",
       "      <td>2004</td>\n",
       "      <td>200801</td>\n",
       "      <td>21~31</td>\n",
       "      <td>3</td>\n",
       "      <td>120000</td>\n",
       "    </tr>\n",
       "  </tbody>\n",
       "</table>\n",
       "</div>"
      ],
      "text/plain": [
       "   transaction_id  apartment_id  ... floor transaction_real_price\n",
       "0               0          7622  ...     2                  37500\n",
       "1               1          5399  ...     6                  20000\n",
       "2               2          3578  ...     6                  38500\n",
       "3               3         10957  ...    15                 118000\n",
       "4               4         10639  ...     3                 120000\n",
       "\n",
       "[5 rows x 13 columns]"
      ]
     },
     "execution_count": 6,
     "metadata": {
      "tags": []
     },
     "output_type": "execute_result"
    }
   ],
   "source": [
    "data.info()\n",
    "data.head()"
   ]
  },
  {
   "cell_type": "code",
   "execution_count": 7,
   "metadata": {
    "colab": {
     "base_uri": "https://localhost:8080/"
    },
    "id": "ygxMa21HMILi",
    "outputId": "8eba470b-c630-4682-afdf-eb447d3f07ba"
   },
   "outputs": [
    {
     "data": {
      "text/plain": [
       "transaction_id            0\n",
       "apartment_id              0\n",
       "city                      0\n",
       "dong                      0\n",
       "jibun                     0\n",
       "apt                       0\n",
       "addr_kr                   0\n",
       "exclusive_use_area        0\n",
       "year_of_completion        0\n",
       "transaction_year_month    0\n",
       "transaction_date          0\n",
       "floor                     0\n",
       "transaction_real_price    0\n",
       "dtype: int64"
      ]
     },
     "execution_count": 7,
     "metadata": {
      "tags": []
     },
     "output_type": "execute_result"
    }
   ],
   "source": [
    "data.isnull().apply(sum)"
   ]
  },
  {
   "cell_type": "markdown",
   "metadata": {
    "id": "pzCMGCpqXQBy"
   },
   "source": [
    "##1.3 불필요한 행 삭제 (reset index)"
   ]
  },
  {
   "cell_type": "code",
   "execution_count": 8,
   "metadata": {
    "id": "pxqfQBU3Ch0R"
   },
   "outputs": [],
   "source": [
    "data = data[data.city=='서울특별시']\n",
    "data.reset_index(drop=True, inplace=True)"
   ]
  },
  {
   "cell_type": "markdown",
   "metadata": {
    "id": "Jm-BCQwVXXTk"
   },
   "source": [
    "##1.4 변수 이름 바꾸기"
   ]
  },
  {
   "cell_type": "code",
   "execution_count": 9,
   "metadata": {
    "id": "eskYNSlrXWzi"
   },
   "outputs": [],
   "source": [
    "data.rename(mapper= {'transaction_real_price' : 'price'},axis=1,inplace=True)"
   ]
  },
  {
   "cell_type": "markdown",
   "metadata": {
    "id": "hanfU47RXlmF"
   },
   "source": [
    "##1.5 불필요한 변수 삭제"
   ]
  },
  {
   "cell_type": "code",
   "execution_count": 10,
   "metadata": {
    "colab": {
     "base_uri": "https://localhost:8080/"
    },
    "id": "lWlsRADMGp9G",
    "outputId": "be0e7da2-b4ea-4de9-bb6f-16214d63ab82"
   },
   "outputs": [
    {
     "data": {
      "text/plain": [
       "(742285, 9)"
      ]
     },
     "execution_count": 10,
     "metadata": {
      "tags": []
     },
     "output_type": "execute_result"
    }
   ],
   "source": [
    "data.drop(columns = ['transaction_id','apartment_id','jibun','city'], inplace=True)\n",
    "data.shape"
   ]
  },
  {
   "cell_type": "markdown",
   "metadata": {
    "id": "aMagk2Z8Xu4y"
   },
   "source": [
    "##1.6 연/월 뽑기"
   ]
  },
  {
   "cell_type": "code",
   "execution_count": 11,
   "metadata": {
    "id": "DAkKVp0hI9yW"
   },
   "outputs": [],
   "source": [
    "data['transaction_year'] = (round(data['transaction_year_month'],-2)/100).astype(int)# '연도+월'에서 반올림 통해 '월'제거\n",
    "data['transaction_month'] = data['transaction_year_month'] - round(data['transaction_year_month'],-2) # '연도'+'월'에서 '연도'빼줘서 '월'만 남김"
   ]
  },
  {
   "cell_type": "markdown",
   "metadata": {
    "id": "KpGsEikBXxmh"
   },
   "source": [
    "##1.7 필요 연도 뽑기"
   ]
  },
  {
   "cell_type": "code",
   "execution_count": 12,
   "metadata": {
    "colab": {
     "base_uri": "https://localhost:8080/",
     "height": 419
    },
    "id": "lFDhFNfEN2eQ",
    "outputId": "f2c07553-2d0d-42d8-ed6e-bc679f4222ee"
   },
   "outputs": [
    {
     "data": {
      "text/html": [
       "<div>\n",
       "<style scoped>\n",
       "    .dataframe tbody tr th:only-of-type {\n",
       "        vertical-align: middle;\n",
       "    }\n",
       "\n",
       "    .dataframe tbody tr th {\n",
       "        vertical-align: top;\n",
       "    }\n",
       "\n",
       "    .dataframe thead th {\n",
       "        text-align: right;\n",
       "    }\n",
       "</style>\n",
       "<table border=\"1\" class=\"dataframe\">\n",
       "  <thead>\n",
       "    <tr style=\"text-align: right;\">\n",
       "      <th></th>\n",
       "      <th>dong</th>\n",
       "      <th>apt</th>\n",
       "      <th>addr_kr</th>\n",
       "      <th>exclusive_use_area</th>\n",
       "      <th>year_of_completion</th>\n",
       "      <th>transaction_year_month</th>\n",
       "      <th>transaction_date</th>\n",
       "      <th>floor</th>\n",
       "      <th>price</th>\n",
       "      <th>transaction_year</th>\n",
       "      <th>transaction_month</th>\n",
       "    </tr>\n",
       "  </thead>\n",
       "  <tbody>\n",
       "    <tr>\n",
       "      <th>0</th>\n",
       "      <td>사직동</td>\n",
       "      <td>광화문풍림스페이스본(9-0)</td>\n",
       "      <td>사직동 9 광화문풍림스페이스본(9-0)</td>\n",
       "      <td>95.88</td>\n",
       "      <td>2008</td>\n",
       "      <td>201201</td>\n",
       "      <td>1~10</td>\n",
       "      <td>6</td>\n",
       "      <td>70000</td>\n",
       "      <td>2012</td>\n",
       "      <td>1</td>\n",
       "    </tr>\n",
       "    <tr>\n",
       "      <th>1</th>\n",
       "      <td>사직동</td>\n",
       "      <td>광화문풍림스페이스본(9-0)</td>\n",
       "      <td>사직동 9 광화문풍림스페이스본(9-0)</td>\n",
       "      <td>108.55</td>\n",
       "      <td>2008</td>\n",
       "      <td>201201</td>\n",
       "      <td>11~20</td>\n",
       "      <td>11</td>\n",
       "      <td>100500</td>\n",
       "      <td>2012</td>\n",
       "      <td>1</td>\n",
       "    </tr>\n",
       "    <tr>\n",
       "      <th>2</th>\n",
       "      <td>사직동</td>\n",
       "      <td>광화문풍림스페이스본(9-0)</td>\n",
       "      <td>사직동 9 광화문풍림스페이스본(9-0)</td>\n",
       "      <td>94.51</td>\n",
       "      <td>2008</td>\n",
       "      <td>201201</td>\n",
       "      <td>11~20</td>\n",
       "      <td>1</td>\n",
       "      <td>65800</td>\n",
       "      <td>2012</td>\n",
       "      <td>1</td>\n",
       "    </tr>\n",
       "    <tr>\n",
       "      <th>3</th>\n",
       "      <td>수송동</td>\n",
       "      <td>로얄팰리스스위트</td>\n",
       "      <td>수송동 85 로얄팰리스스위트</td>\n",
       "      <td>42.87</td>\n",
       "      <td>2005</td>\n",
       "      <td>201201</td>\n",
       "      <td>1~10</td>\n",
       "      <td>8</td>\n",
       "      <td>30500</td>\n",
       "      <td>2012</td>\n",
       "      <td>1</td>\n",
       "    </tr>\n",
       "    <tr>\n",
       "      <th>4</th>\n",
       "      <td>수송동</td>\n",
       "      <td>로얄팰리스스위트</td>\n",
       "      <td>수송동 85 로얄팰리스스위트</td>\n",
       "      <td>39.67</td>\n",
       "      <td>2005</td>\n",
       "      <td>201201</td>\n",
       "      <td>21~31</td>\n",
       "      <td>15</td>\n",
       "      <td>30500</td>\n",
       "      <td>2012</td>\n",
       "      <td>1</td>\n",
       "    </tr>\n",
       "    <tr>\n",
       "      <th>...</th>\n",
       "      <td>...</td>\n",
       "      <td>...</td>\n",
       "      <td>...</td>\n",
       "      <td>...</td>\n",
       "      <td>...</td>\n",
       "      <td>...</td>\n",
       "      <td>...</td>\n",
       "      <td>...</td>\n",
       "      <td>...</td>\n",
       "      <td>...</td>\n",
       "      <td>...</td>\n",
       "    </tr>\n",
       "    <tr>\n",
       "      <th>513523</th>\n",
       "      <td>강일동</td>\n",
       "      <td>고덕리엔파크2단지</td>\n",
       "      <td>강일동 717 고덕리엔파크2단지</td>\n",
       "      <td>59.72</td>\n",
       "      <td>2011</td>\n",
       "      <td>201711</td>\n",
       "      <td>11~20</td>\n",
       "      <td>9</td>\n",
       "      <td>53000</td>\n",
       "      <td>2017</td>\n",
       "      <td>11</td>\n",
       "    </tr>\n",
       "    <tr>\n",
       "      <th>513524</th>\n",
       "      <td>강일동</td>\n",
       "      <td>강일리버파크3단지</td>\n",
       "      <td>강일동 674 강일리버파크3단지</td>\n",
       "      <td>59.87</td>\n",
       "      <td>2009</td>\n",
       "      <td>201711</td>\n",
       "      <td>21~30</td>\n",
       "      <td>12</td>\n",
       "      <td>53000</td>\n",
       "      <td>2017</td>\n",
       "      <td>11</td>\n",
       "    </tr>\n",
       "    <tr>\n",
       "      <th>513525</th>\n",
       "      <td>강일동</td>\n",
       "      <td>강일리버파크3단지</td>\n",
       "      <td>강일동 674 강일리버파크3단지</td>\n",
       "      <td>84.74</td>\n",
       "      <td>2009</td>\n",
       "      <td>201711</td>\n",
       "      <td>21~30</td>\n",
       "      <td>3</td>\n",
       "      <td>56500</td>\n",
       "      <td>2017</td>\n",
       "      <td>11</td>\n",
       "    </tr>\n",
       "    <tr>\n",
       "      <th>513526</th>\n",
       "      <td>강일동</td>\n",
       "      <td>강일리버파크1단지</td>\n",
       "      <td>강일동 665 강일리버파크1단지</td>\n",
       "      <td>84.74</td>\n",
       "      <td>2009</td>\n",
       "      <td>201711</td>\n",
       "      <td>21~30</td>\n",
       "      <td>9</td>\n",
       "      <td>55500</td>\n",
       "      <td>2017</td>\n",
       "      <td>11</td>\n",
       "    </tr>\n",
       "    <tr>\n",
       "      <th>513527</th>\n",
       "      <td>강일동</td>\n",
       "      <td>고덕리엔파크2단지</td>\n",
       "      <td>강일동 717 고덕리엔파크2단지</td>\n",
       "      <td>84.98</td>\n",
       "      <td>2011</td>\n",
       "      <td>201711</td>\n",
       "      <td>21~30</td>\n",
       "      <td>8</td>\n",
       "      <td>63750</td>\n",
       "      <td>2017</td>\n",
       "      <td>11</td>\n",
       "    </tr>\n",
       "  </tbody>\n",
       "</table>\n",
       "<p>513528 rows × 11 columns</p>\n",
       "</div>"
      ],
      "text/plain": [
       "       dong              apt  ... transaction_year  transaction_month\n",
       "0       사직동  광화문풍림스페이스본(9-0)  ...             2012                  1\n",
       "1       사직동  광화문풍림스페이스본(9-0)  ...             2012                  1\n",
       "2       사직동  광화문풍림스페이스본(9-0)  ...             2012                  1\n",
       "3       수송동         로얄팰리스스위트  ...             2012                  1\n",
       "4       수송동         로얄팰리스스위트  ...             2012                  1\n",
       "...     ...              ...  ...              ...                ...\n",
       "513523  강일동        고덕리엔파크2단지  ...             2017                 11\n",
       "513524  강일동        강일리버파크3단지  ...             2017                 11\n",
       "513525  강일동        강일리버파크3단지  ...             2017                 11\n",
       "513526  강일동        강일리버파크1단지  ...             2017                 11\n",
       "513527  강일동        고덕리엔파크2단지  ...             2017                 11\n",
       "\n",
       "[513528 rows x 11 columns]"
      ]
     },
     "execution_count": 12,
     "metadata": {
      "tags": []
     },
     "output_type": "execute_result"
    }
   ],
   "source": [
    "data = data[data.transaction_year >= 2012]\n",
    "data.reset_index(drop=True, inplace=True)\n",
    "data"
   ]
  },
  {
   "cell_type": "markdown",
   "metadata": {
    "id": "u4FtN7z-QOwk"
   },
   "source": [
    "#2. 데이터 시각화"
   ]
  },
  {
   "cell_type": "markdown",
   "metadata": {
    "id": "2mfQ7XglZyyr"
   },
   "source": [
    "##2.1 거래가격 분포 확인"
   ]
  },
  {
   "cell_type": "code",
   "execution_count": 13,
   "metadata": {
    "id": "pwY6pgvdkHxD"
   },
   "outputs": [],
   "source": [
    "import matplotlib.pyplot as plt\n",
    "import seaborn as sns"
   ]
  },
  {
   "cell_type": "code",
   "execution_count": 14,
   "metadata": {
    "colab": {
     "base_uri": "https://localhost:8080/",
     "height": 653
    },
    "id": "MUU23wQjGxiS",
    "outputId": "8c556a29-aaa3-49ca-b87e-844804aef528"
   },
   "outputs": [
    {
     "data": {
      "text/plain": [
       "Text(0.5, 0, 'Price')"
      ]
     },
     "execution_count": 14,
     "metadata": {
      "tags": []
     },
     "output_type": "execute_result"
    },
    {
     "data": {
      "image/png": "[encoded data removed]",
      "text/plain": [
       "<Figure size 1440x720 with 2 Axes>"
      ]
     },
     "metadata": {
      "needs_background": "light",
      "tags": []
     },
     "output_type": "display_data"
    }
   ],
   "source": [
    "firstplot = plt.figure(figsize=(20,10)) # (20, 10)  사이즈의 firstplot이란 plot을 생성할거임\n",
    "axes1 = firstplot.add_subplot(1, 2, 1) # 플랏을 분할할건데, 1행 2열로 분할할거고, 이건 그중 첫번째 플랏임\n",
    "axes2 = firstplot.add_subplot(1, 2, 2) # 이건 그중에 두번째 플랏임\n",
    "\n",
    "axes1.boxplot(data.price,vert=False) # 첫번째 플랏에는 boxplot을 그릴건데, 가로로 눕힐거임\n",
    "axes1.set_title('Boxplot of price',fontsize=20) # 플랏 제목도 달고, 폰트 사이즈도 지정줄거임\n",
    "axes1.set_xlabel('Price',fontsize=18)\n",
    "axes1.get_yaxis().set_visible(False)\n",
    "\n",
    "axes2.hist(data.price,bins=50) # 두번째 플랏은 히스토그램 그릴거임\n",
    "axes2.set_title('Histogram of price', fontsize=20)\n",
    "axes2.set_xlabel('Price',fontsize=18)"
   ]
  },
  {
   "cell_type": "code",
   "execution_count": 15,
   "metadata": {
    "colab": {
     "base_uri": "https://localhost:8080/",
     "height": 754
    },
    "id": "whDOBDqJSMPi",
    "outputId": "78da259f-813f-40d3-ec02-f6f3e8ab015f"
   },
   "outputs": [
    {
     "name": "stderr",
     "output_type": "stream",
     "text": [
      "/usr/local/lib/python3.7/dist-packages/seaborn/_decorators.py:43: FutureWarning: Pass the following variable as a keyword arg: x. From version 0.12, the only valid positional argument will be `data`, and passing other arguments without an explicit keyword will result in an error or misinterpretation.\n",
      "  FutureWarning\n",
      "/usr/local/lib/python3.7/dist-packages/seaborn/distributions.py:2557: FutureWarning: `distplot` is a deprecated function and will be removed in a future version. Please adapt your code to use either `displot` (a figure-level function with similar flexibility) or `histplot` (an axes-level function for histograms).\n",
      "  warnings.warn(msg, FutureWarning)\n"
     ]
    },
    {
     "data": {
      "text/plain": [
       "Text(0, 0.5, '')"
      ]
     },
     "execution_count": 15,
     "metadata": {
      "tags": []
     },
     "output_type": "execute_result"
    },
    {
     "data": {
      "image/png": "[encoded data removed]",
      "text/plain": [
       "<Figure size 1296x720 with 2 Axes>"
      ]
     },
     "metadata": {
      "tags": []
     },
     "output_type": "display_data"
    }
   ],
   "source": [
    "sns.set(font_scale = 1.5) # 폰트사이즈를 전체적으로 키워준다\n",
    "fig, axs = plt.subplots(ncols = 2, figsize = (18, 10)) #서브플랏을 1행 2열로 분할하고\n",
    "\n",
    "ax1 = sns.boxplot(data.price, ax=axs[0])\n",
    "ax2 = sns.distplot(data.price, ax=axs[1])\n",
    "\n",
    "ax1.set_title('Boxplot of Price')\n",
    "ax2.set_xlabel('Price')\n",
    "\n",
    "ax2.set_title('Histogram of Price')\n",
    "ax2.set_xlabel('Price')\n",
    "ax2.set_ylabel(\"\")"
   ]
  },
  {
   "cell_type": "markdown",
   "metadata": {
    "id": "2FfhRjbmKovu"
   },
   "source": [
    "0-200000 사이에 거래가격이 주로 분포하는 걸 알 수 있습니다."
   ]
  },
  {
   "cell_type": "markdown",
   "metadata": {
    "id": "xAZLCy2MZ4Lc"
   },
   "source": [
    "##2.2 거래연도 분포 확인 / 거래연도별 가격 분포 확인"
   ]
  },
  {
   "cell_type": "code",
   "execution_count": 16,
   "metadata": {
    "colab": {
     "base_uri": "https://localhost:8080/",
     "height": 642
    },
    "id": "IbG5XVOCKu4h",
    "outputId": "99a44e6f-c160-4ac2-8d4c-661e5a3f99ec"
   },
   "outputs": [
    {
     "data": {
      "text/plain": [
       "Text(0, 0.5, 'Price')"
      ]
     },
     "execution_count": 16,
     "metadata": {
      "tags": []
     },
     "output_type": "execute_result"
    },
    {
     "data": {
      "image/png": "[encoded data removed]",
      "text/plain": [
       "<Figure size 1296x720 with 2 Axes>"
      ]
     },
     "metadata": {
      "tags": []
     },
     "output_type": "display_data"
    }
   ],
   "source": [
    "fig, axs = plt.subplots(ncols = 2, figsize = (18, 10))\n",
    "\n",
    "ax1 = sns.countplot(data=data, x='transaction_year', ax=axs[0])\n",
    "ax2 = sns.barplot(data=data, x='transaction_year', y='price', ax=axs[1])\n",
    "\n",
    "ax1.set_ylabel('Count')\n",
    "\n",
    "ax2.set_ylabel('Price')"
   ]
  },
  {
   "cell_type": "markdown",
   "metadata": {
    "id": "X1-sBBHtUB2U"
   },
   "source": [
    "2015년도에 거래가 가장 많고 2017년도에 거래가격이 가장 높다는 걸 알 수 있습니다."
   ]
  },
  {
   "cell_type": "markdown",
   "metadata": {
    "id": "dT3X5W_1Z83D"
   },
   "source": [
    "##2.3 층 분포 확인 / 층별 가격 분포 확인"
   ]
  },
  {
   "cell_type": "code",
   "execution_count": 17,
   "metadata": {
    "colab": {
     "base_uri": "https://localhost:8080/",
     "height": 624
    },
    "id": "9dSy1IYIT96B",
    "outputId": "2296b393-4d49-41ea-f32f-378d3cd7e72c"
   },
   "outputs": [
    {
     "data": {
      "text/plain": [
       "[]"
      ]
     },
     "execution_count": 17,
     "metadata": {
      "tags": []
     },
     "output_type": "execute_result"
    },
    {
     "data": {
      "image/png": "[encoded data removed]",
      "text/plain": [
       "<Figure size 1296x720 with 2 Axes>"
      ]
     },
     "metadata": {
      "tags": []
     },
     "output_type": "display_data"
    }
   ],
   "source": [
    "fig, axs = plt.subplots(ncols = 2, figsize = (18, 10))\n",
    "\n",
    "ax1 = sns.countplot(data=data, x='floor', ax=axs[0], color='red')\n",
    "ax2 = sns.barplot(data=data, x='floor', y='price', ax=axs[1], color='red', ci=None)\n",
    "\n",
    "ax1.set_ylabel('Count')\n",
    "ax1.set_xticklabels(\"\")\n",
    "\n",
    "ax2.set_ylabel('Price')\n",
    "ax2.set_xticklabels(\"\")"
   ]
  },
  {
   "cell_type": "markdown",
   "metadata": {
    "id": "cYWjP8G5WqND"
   },
   "source": [
    "층별 가격 분포가 오른쪽으로 치우쳐져 있는 것으로 보아 고층일수록 가격이 높아지는 경향이 있다 할 수 있습니다."
   ]
  },
  {
   "cell_type": "markdown",
   "metadata": {
    "id": "_MpWGW2JaA47"
   },
   "source": [
    "##2.4 완공연도 분포 확인 / 완공연도별 가격 분포 확인"
   ]
  },
  {
   "cell_type": "code",
   "execution_count": 18,
   "metadata": {
    "colab": {
     "base_uri": "https://localhost:8080/",
     "height": 624
    },
    "id": "b_Y_D90UXB7k",
    "outputId": "72e255fb-2772-4219-a43b-cabe78e9ace1"
   },
   "outputs": [
    {
     "data": {
      "text/plain": [
       "[]"
      ]
     },
     "execution_count": 18,
     "metadata": {
      "tags": []
     },
     "output_type": "execute_result"
    },
    {
     "data": {
      "image/png": "[encoded data removed]",
      "text/plain": [
       "<Figure size 1296x720 with 2 Axes>"
      ]
     },
     "metadata": {
      "tags": []
     },
     "output_type": "display_data"
    }
   ],
   "source": [
    "fig, axs = plt.subplots(ncols = 2, figsize = (18, 10))\n",
    "\n",
    "ax1 = sns.countplot(data=data, x='year_of_completion', ax=axs[0], color='red')\n",
    "ax2 = sns.barplot(data=data, x='year_of_completion', y='price', ax=axs[1], color='red', ci=None)\n",
    "\n",
    "ax1.set_ylabel('Count')\n",
    "ax1.set_xticklabels(\"\")\n",
    "\n",
    "ax2.set_ylabel('Price')\n",
    "ax2.set_xticklabels(\"\")"
   ]
  },
  {
   "cell_type": "markdown",
   "metadata": {
    "id": "eLDU1_iAXaWE"
   },
   "source": [
    "오른쪽 가격 분포 그래프를 보아 최근 아파트라고 해서 가격이 더 비싸지는 않다는 걸 확인할 수 있습니다."
   ]
  },
  {
   "cell_type": "markdown",
   "metadata": {
    "id": "5ldUy5w5YDdb"
   },
   "source": [
    "#3. 파생변수 생성"
   ]
  },
  {
   "cell_type": "markdown",
   "metadata": {
    "id": "b4mF-cNRZaqL"
   },
   "source": [
    "##3.1 아파트 연차 변수 생성"
   ]
  },
  {
   "cell_type": "code",
   "execution_count": 19,
   "metadata": {
    "colab": {
     "base_uri": "https://localhost:8080/",
     "height": 628
    },
    "id": "PQV4Xtv8YCgD",
    "outputId": "286c2a96-2624-43ca-8036-49f20a8f7231"
   },
   "outputs": [
    {
     "data": {
      "text/plain": [
       "[]"
      ]
     },
     "execution_count": 19,
     "metadata": {
      "tags": []
     },
     "output_type": "execute_result"
    },
    {
     "data": {
      "image/png": "[encoded data removed]",
      "text/plain": [
       "<Figure size 1296x720 with 2 Axes>"
      ]
     },
     "metadata": {
      "tags": []
     },
     "output_type": "display_data"
    }
   ],
   "source": [
    "data['until_trans'] = data.transaction_year - data.year_of_completion + 1\n",
    "\n",
    "fig, axs = plt.subplots(ncols = 2, figsize = (18, 10))\n",
    "\n",
    "ax1 = sns.countplot(data=data, x='until_trans', ax=axs[0], color='red')\n",
    "ax2 = sns.barplot(data=data, x='until_trans', y='price', ax=axs[1], color='red')\n",
    "\n",
    "ax1.set_ylabel('Count')\n",
    "ax1.set_xticklabels(\"\")\n",
    "\n",
    "ax2.set_ylabel('Price')\n",
    "ax2.set_xticklabels(\"\")"
   ]
  },
  {
   "cell_type": "markdown",
   "metadata": {
    "id": "lr_vh1z0aP1r"
   },
   "source": [
    "초기에는 거래가격이 높다가 연차가 오래되면 잠시 떨어지다 다시 급증하는 걸 알 수 있습니다."
   ]
  },
  {
   "cell_type": "markdown",
   "metadata": {
    "id": "hoHbcS00ahLm"
   },
   "source": [
    "##3.2 거래 일 수 변환"
   ]
  },
  {
   "cell_type": "code",
   "execution_count": 20,
   "metadata": {
    "id": "BDXRIhKzaf9R"
   },
   "outputs": [],
   "source": [
    "data['transaction_date'] = np.where(data.transaction_date == '1~10', 0, \n",
    "                                    np.where(data.transaction_date == '11~20', 1,2))\n"
   ]
  },
  {
   "cell_type": "markdown",
   "metadata": {
    "id": "XhOEl1AdcGMk"
   },
   "source": [
    "##3.3 월 변수와 10일 단위 변수 통합"
   ]
  },
  {
   "cell_type": "code",
   "execution_count": 21,
   "metadata": {
    "colab": {
     "base_uri": "https://localhost:8080/",
     "height": 589
    },
    "id": "ewxWHcq5cCp-",
    "outputId": "7f54ce15-d4f8-4118-fadc-8d88e9ad5d59"
   },
   "outputs": [
    {
     "data": {
      "text/html": [
       "<div>\n",
       "<style scoped>\n",
       "    .dataframe tbody tr th:only-of-type {\n",
       "        vertical-align: middle;\n",
       "    }\n",
       "\n",
       "    .dataframe tbody tr th {\n",
       "        vertical-align: top;\n",
       "    }\n",
       "\n",
       "    .dataframe thead th {\n",
       "        text-align: right;\n",
       "    }\n",
       "</style>\n",
       "<table border=\"1\" class=\"dataframe\">\n",
       "  <thead>\n",
       "    <tr style=\"text-align: right;\">\n",
       "      <th></th>\n",
       "      <th>dong</th>\n",
       "      <th>apt</th>\n",
       "      <th>addr_kr</th>\n",
       "      <th>exclusive_use_area</th>\n",
       "      <th>year_of_completion</th>\n",
       "      <th>transaction_year_month</th>\n",
       "      <th>transaction_date</th>\n",
       "      <th>floor</th>\n",
       "      <th>price</th>\n",
       "      <th>transaction_year</th>\n",
       "      <th>transaction_month</th>\n",
       "      <th>until_trans</th>\n",
       "      <th>transaction_month_date</th>\n",
       "    </tr>\n",
       "  </thead>\n",
       "  <tbody>\n",
       "    <tr>\n",
       "      <th>0</th>\n",
       "      <td>사직동</td>\n",
       "      <td>광화문풍림스페이스본(9-0)</td>\n",
       "      <td>사직동 9 광화문풍림스페이스본(9-0)</td>\n",
       "      <td>95.88</td>\n",
       "      <td>2008</td>\n",
       "      <td>201201</td>\n",
       "      <td>0</td>\n",
       "      <td>6</td>\n",
       "      <td>70000</td>\n",
       "      <td>2012</td>\n",
       "      <td>1</td>\n",
       "      <td>5</td>\n",
       "      <td>3</td>\n",
       "    </tr>\n",
       "    <tr>\n",
       "      <th>1</th>\n",
       "      <td>사직동</td>\n",
       "      <td>광화문풍림스페이스본(9-0)</td>\n",
       "      <td>사직동 9 광화문풍림스페이스본(9-0)</td>\n",
       "      <td>108.55</td>\n",
       "      <td>2008</td>\n",
       "      <td>201201</td>\n",
       "      <td>1</td>\n",
       "      <td>11</td>\n",
       "      <td>100500</td>\n",
       "      <td>2012</td>\n",
       "      <td>1</td>\n",
       "      <td>5</td>\n",
       "      <td>4</td>\n",
       "    </tr>\n",
       "    <tr>\n",
       "      <th>2</th>\n",
       "      <td>사직동</td>\n",
       "      <td>광화문풍림스페이스본(9-0)</td>\n",
       "      <td>사직동 9 광화문풍림스페이스본(9-0)</td>\n",
       "      <td>94.51</td>\n",
       "      <td>2008</td>\n",
       "      <td>201201</td>\n",
       "      <td>1</td>\n",
       "      <td>1</td>\n",
       "      <td>65800</td>\n",
       "      <td>2012</td>\n",
       "      <td>1</td>\n",
       "      <td>5</td>\n",
       "      <td>4</td>\n",
       "    </tr>\n",
       "    <tr>\n",
       "      <th>3</th>\n",
       "      <td>수송동</td>\n",
       "      <td>로얄팰리스스위트</td>\n",
       "      <td>수송동 85 로얄팰리스스위트</td>\n",
       "      <td>42.87</td>\n",
       "      <td>2005</td>\n",
       "      <td>201201</td>\n",
       "      <td>0</td>\n",
       "      <td>8</td>\n",
       "      <td>30500</td>\n",
       "      <td>2012</td>\n",
       "      <td>1</td>\n",
       "      <td>8</td>\n",
       "      <td>3</td>\n",
       "    </tr>\n",
       "    <tr>\n",
       "      <th>4</th>\n",
       "      <td>수송동</td>\n",
       "      <td>로얄팰리스스위트</td>\n",
       "      <td>수송동 85 로얄팰리스스위트</td>\n",
       "      <td>39.67</td>\n",
       "      <td>2005</td>\n",
       "      <td>201201</td>\n",
       "      <td>2</td>\n",
       "      <td>15</td>\n",
       "      <td>30500</td>\n",
       "      <td>2012</td>\n",
       "      <td>1</td>\n",
       "      <td>8</td>\n",
       "      <td>5</td>\n",
       "    </tr>\n",
       "    <tr>\n",
       "      <th>...</th>\n",
       "      <td>...</td>\n",
       "      <td>...</td>\n",
       "      <td>...</td>\n",
       "      <td>...</td>\n",
       "      <td>...</td>\n",
       "      <td>...</td>\n",
       "      <td>...</td>\n",
       "      <td>...</td>\n",
       "      <td>...</td>\n",
       "      <td>...</td>\n",
       "      <td>...</td>\n",
       "      <td>...</td>\n",
       "      <td>...</td>\n",
       "    </tr>\n",
       "    <tr>\n",
       "      <th>513523</th>\n",
       "      <td>강일동</td>\n",
       "      <td>고덕리엔파크2단지</td>\n",
       "      <td>강일동 717 고덕리엔파크2단지</td>\n",
       "      <td>59.72</td>\n",
       "      <td>2011</td>\n",
       "      <td>201711</td>\n",
       "      <td>1</td>\n",
       "      <td>9</td>\n",
       "      <td>53000</td>\n",
       "      <td>2017</td>\n",
       "      <td>11</td>\n",
       "      <td>7</td>\n",
       "      <td>34</td>\n",
       "    </tr>\n",
       "    <tr>\n",
       "      <th>513524</th>\n",
       "      <td>강일동</td>\n",
       "      <td>강일리버파크3단지</td>\n",
       "      <td>강일동 674 강일리버파크3단지</td>\n",
       "      <td>59.87</td>\n",
       "      <td>2009</td>\n",
       "      <td>201711</td>\n",
       "      <td>2</td>\n",
       "      <td>12</td>\n",
       "      <td>53000</td>\n",
       "      <td>2017</td>\n",
       "      <td>11</td>\n",
       "      <td>9</td>\n",
       "      <td>35</td>\n",
       "    </tr>\n",
       "    <tr>\n",
       "      <th>513525</th>\n",
       "      <td>강일동</td>\n",
       "      <td>강일리버파크3단지</td>\n",
       "      <td>강일동 674 강일리버파크3단지</td>\n",
       "      <td>84.74</td>\n",
       "      <td>2009</td>\n",
       "      <td>201711</td>\n",
       "      <td>2</td>\n",
       "      <td>3</td>\n",
       "      <td>56500</td>\n",
       "      <td>2017</td>\n",
       "      <td>11</td>\n",
       "      <td>9</td>\n",
       "      <td>35</td>\n",
       "    </tr>\n",
       "    <tr>\n",
       "      <th>513526</th>\n",
       "      <td>강일동</td>\n",
       "      <td>강일리버파크1단지</td>\n",
       "      <td>강일동 665 강일리버파크1단지</td>\n",
       "      <td>84.74</td>\n",
       "      <td>2009</td>\n",
       "      <td>201711</td>\n",
       "      <td>2</td>\n",
       "      <td>9</td>\n",
       "      <td>55500</td>\n",
       "      <td>2017</td>\n",
       "      <td>11</td>\n",
       "      <td>9</td>\n",
       "      <td>35</td>\n",
       "    </tr>\n",
       "    <tr>\n",
       "      <th>513527</th>\n",
       "      <td>강일동</td>\n",
       "      <td>고덕리엔파크2단지</td>\n",
       "      <td>강일동 717 고덕리엔파크2단지</td>\n",
       "      <td>84.98</td>\n",
       "      <td>2011</td>\n",
       "      <td>201711</td>\n",
       "      <td>2</td>\n",
       "      <td>8</td>\n",
       "      <td>63750</td>\n",
       "      <td>2017</td>\n",
       "      <td>11</td>\n",
       "      <td>7</td>\n",
       "      <td>35</td>\n",
       "    </tr>\n",
       "  </tbody>\n",
       "</table>\n",
       "<p>513528 rows × 13 columns</p>\n",
       "</div>"
      ],
      "text/plain": [
       "       dong              apt  ... until_trans  transaction_month_date\n",
       "0       사직동  광화문풍림스페이스본(9-0)  ...           5                       3\n",
       "1       사직동  광화문풍림스페이스본(9-0)  ...           5                       4\n",
       "2       사직동  광화문풍림스페이스본(9-0)  ...           5                       4\n",
       "3       수송동         로얄팰리스스위트  ...           8                       3\n",
       "4       수송동         로얄팰리스스위트  ...           8                       5\n",
       "...     ...              ...  ...         ...                     ...\n",
       "513523  강일동        고덕리엔파크2단지  ...           7                      34\n",
       "513524  강일동        강일리버파크3단지  ...           9                      35\n",
       "513525  강일동        강일리버파크3단지  ...           9                      35\n",
       "513526  강일동        강일리버파크1단지  ...           9                      35\n",
       "513527  강일동        고덕리엔파크2단지  ...           7                      35\n",
       "\n",
       "[513528 rows x 13 columns]"
      ]
     },
     "execution_count": 21,
     "metadata": {
      "tags": []
     },
     "output_type": "execute_result"
    }
   ],
   "source": [
    "data['transaction_month_date'] = 3*data.transaction_month + data.transaction_date\n",
    "data"
   ]
  },
  {
   "cell_type": "markdown",
   "metadata": {
    "id": "NKMvO2HaeBy1"
   },
   "source": [
    "##3.4 연도별 주기성을 위한 파생변수 생성 (삼각변환)"
   ]
  },
  {
   "cell_type": "code",
   "execution_count": 22,
   "metadata": {
    "id": "Yh24d_8kd9CV"
   },
   "outputs": [],
   "source": [
    "import math\n",
    "\n",
    "data['sin_date'] = data['transaction_month_date'].apply(lambda x: math.sin(2*math.pi*x / 3*12))\n",
    "data['cos_date'] = data['transaction_month_date'].apply(lambda x: math.cos(2*math.pi*x / 3*12))"
   ]
  },
  {
   "cell_type": "code",
   "execution_count": 23,
   "metadata": {
    "id": "8J5DkGpTLf1C"
   },
   "outputs": [],
   "source": [
    "data.drop(columns = ['year_of_completion', \n",
    "                    'transaction_year_month', \n",
    "                    'transaction_date', \n",
    "                    'transaction_month', \n",
    "                    'transaction_month_date'], inplace=True)"
   ]
  },
  {
   "cell_type": "markdown",
   "metadata": {
    "id": "A-W8HwslnIr1"
   },
   "source": [
    "##3.5 삼각변환을 통한 장점"
   ]
  },
  {
   "cell_type": "markdown",
   "metadata": {
    "id": "lCsu5V4unNYN"
   },
   "source": [
    "dummy(one-hot)을 잡거나, label인코딩을 하면 단순히 순서대로 인덱스값을 부여하지만  \n",
    "삼각변환을 해주면 변수값의 주기성을 표현할 수 있다는 장점이 있습니다.\n",
    "\n",
    "\n",
    "\n"
   ]
  },
  {
   "cell_type": "markdown",
   "metadata": {
    "id": "WsFsdCoK5RoF"
   },
   "source": [
    "#4. 텍스트 데이터 다루기"
   ]
  },
  {
   "cell_type": "markdown",
   "metadata": {
    "id": "-P8XMwxq5UdZ"
   },
   "source": [
    "##4.1 아파트 이름 한글부부만 뽑기"
   ]
  },
  {
   "cell_type": "code",
   "execution_count": 24,
   "metadata": {
    "colab": {
     "base_uri": "https://localhost:8080/"
    },
    "id": "OF67yRLb5XOE",
    "outputId": "b906fb30-b532-4053-e3d0-b184bb4b3f9d"
   },
   "outputs": [
    {
     "data": {
      "text/plain": [
       "0    광화문풍림스페이스본\n",
       "1    광화문풍림스페이스본\n",
       "2    광화문풍림스페이스본\n",
       "3      로얄팰리스스위트\n",
       "4      로얄팰리스스위트\n",
       "Name: apt, dtype: object"
      ]
     },
     "execution_count": 24,
     "metadata": {
      "tags": []
     },
     "output_type": "execute_result"
    }
   ],
   "source": [
    "apt = data.apt\n",
    "apt = apt.str.replace('\\d|[^\\w]', \"\") # 숫자와 특수문자 공백으로 교체\n",
    "apt.head()"
   ]
  },
  {
   "cell_type": "markdown",
   "metadata": {
    "id": "NdRAMKHr9fuL"
   },
   "source": [
    "##4.2 아파트 이름 DTM"
   ]
  },
  {
   "cell_type": "code",
   "execution_count": 25,
   "metadata": {
    "id": "gdGNhggY9fDJ"
   },
   "outputs": [],
   "source": [
    "from sklearn.feature_extraction.text import CountVectorizer"
   ]
  },
  {
   "cell_type": "code",
   "execution_count": 26,
   "metadata": {
    "colab": {
     "base_uri": "https://localhost:8080/",
     "height": 419
    },
    "id": "-sSq-rRh9rZa",
    "outputId": "956edf4f-15bb-4810-b8a3-1aa622882f8a"
   },
   "outputs": [
    {
     "data": {
      "text/html": [
       "<div>\n",
       "<style scoped>\n",
       "    .dataframe tbody tr th:only-of-type {\n",
       "        vertical-align: middle;\n",
       "    }\n",
       "\n",
       "    .dataframe tbody tr th {\n",
       "        vertical-align: top;\n",
       "    }\n",
       "\n",
       "    .dataframe thead th {\n",
       "        text-align: right;\n",
       "    }\n",
       "</style>\n",
       "<table border=\"1\" class=\"dataframe\">\n",
       "  <thead>\n",
       "    <tr style=\"text-align: right;\">\n",
       "      <th></th>\n",
       "      <th>단어</th>\n",
       "      <th>빈도</th>\n",
       "    </tr>\n",
       "  </thead>\n",
       "  <tbody>\n",
       "    <tr>\n",
       "      <th>0</th>\n",
       "      <td>aaa</td>\n",
       "      <td>24</td>\n",
       "    </tr>\n",
       "    <tr>\n",
       "      <th>1</th>\n",
       "      <td>ags드림</td>\n",
       "      <td>7</td>\n",
       "    </tr>\n",
       "    <tr>\n",
       "      <th>2</th>\n",
       "      <td>airpalace</td>\n",
       "      <td>31</td>\n",
       "    </tr>\n",
       "    <tr>\n",
       "      <th>3</th>\n",
       "      <td>andpra레지던스</td>\n",
       "      <td>25</td>\n",
       "    </tr>\n",
       "    <tr>\n",
       "      <th>4</th>\n",
       "      <td>apelbaum</td>\n",
       "      <td>5</td>\n",
       "    </tr>\n",
       "    <tr>\n",
       "      <th>...</th>\n",
       "      <td>...</td>\n",
       "      <td>...</td>\n",
       "    </tr>\n",
       "    <tr>\n",
       "      <th>4043</th>\n",
       "      <td>힐탑아파트차</td>\n",
       "      <td>12</td>\n",
       "    </tr>\n",
       "    <tr>\n",
       "      <th>4044</th>\n",
       "      <td>힐탑이루미</td>\n",
       "      <td>24</td>\n",
       "    </tr>\n",
       "    <tr>\n",
       "      <th>4045</th>\n",
       "      <td>힐탑트레져동</td>\n",
       "      <td>12</td>\n",
       "    </tr>\n",
       "    <tr>\n",
       "      <th>4046</th>\n",
       "      <td>힐튼</td>\n",
       "      <td>5</td>\n",
       "    </tr>\n",
       "    <tr>\n",
       "      <th>4047</th>\n",
       "      <td>힐튼빌리지차</td>\n",
       "      <td>11</td>\n",
       "    </tr>\n",
       "  </tbody>\n",
       "</table>\n",
       "<p>4048 rows × 2 columns</p>\n",
       "</div>"
      ],
      "text/plain": [
       "              단어  빈도\n",
       "0            aaa  24\n",
       "1          ags드림   7\n",
       "2      airpalace  31\n",
       "3     andpra레지던스  25\n",
       "4       apelbaum   5\n",
       "...          ...  ..\n",
       "4043      힐탑아파트차  12\n",
       "4044       힐탑이루미  24\n",
       "4045      힐탑트레져동  12\n",
       "4046          힐튼   5\n",
       "4047      힐튼빌리지차  11\n",
       "\n",
       "[4048 rows x 2 columns]"
      ]
     },
     "execution_count": 26,
     "metadata": {
      "tags": []
     },
     "output_type": "execute_result"
    }
   ],
   "source": [
    "cv = CountVectorizer(min_df = 5)\n",
    "dtm = cv.fit_transform(apt)\n",
    "apt_dtm = pd.DataFrame({\n",
    "    '단어' : cv.get_feature_names(),\n",
    "    '빈도' : dtm.sum(axis=0).flat\n",
    "})\n",
    "apt_dtm"
   ]
  },
  {
   "cell_type": "markdown",
   "metadata": {
    "id": "8KnpvVC1AIY6"
   },
   "source": [
    "##4.3 아파트 이름 tf-idf"
   ]
  },
  {
   "cell_type": "code",
   "execution_count": 27,
   "metadata": {
    "id": "ZXXLV6NRAD00"
   },
   "outputs": [],
   "source": [
    "from sklearn.feature_extraction.text import TfidfVectorizer"
   ]
  },
  {
   "cell_type": "code",
   "execution_count": 28,
   "metadata": {
    "colab": {
     "base_uri": "https://localhost:8080/",
     "height": 419
    },
    "id": "uWIfaywyANkp",
    "outputId": "818ac101-9fad-4e2c-ff40-f7e1111714e9"
   },
   "outputs": [
    {
     "data": {
      "text/html": [
       "<div>\n",
       "<style scoped>\n",
       "    .dataframe tbody tr th:only-of-type {\n",
       "        vertical-align: middle;\n",
       "    }\n",
       "\n",
       "    .dataframe tbody tr th {\n",
       "        vertical-align: top;\n",
       "    }\n",
       "\n",
       "    .dataframe thead th {\n",
       "        text-align: right;\n",
       "    }\n",
       "</style>\n",
       "<table border=\"1\" class=\"dataframe\">\n",
       "  <thead>\n",
       "    <tr style=\"text-align: right;\">\n",
       "      <th></th>\n",
       "      <th>단어</th>\n",
       "      <th>빈도</th>\n",
       "    </tr>\n",
       "  </thead>\n",
       "  <tbody>\n",
       "    <tr>\n",
       "      <th>0</th>\n",
       "      <td>aaa</td>\n",
       "      <td>24.0</td>\n",
       "    </tr>\n",
       "    <tr>\n",
       "      <th>1</th>\n",
       "      <td>ags드림</td>\n",
       "      <td>7.0</td>\n",
       "    </tr>\n",
       "    <tr>\n",
       "      <th>2</th>\n",
       "      <td>airpalace</td>\n",
       "      <td>31.0</td>\n",
       "    </tr>\n",
       "    <tr>\n",
       "      <th>3</th>\n",
       "      <td>andpra레지던스</td>\n",
       "      <td>25.0</td>\n",
       "    </tr>\n",
       "    <tr>\n",
       "      <th>4</th>\n",
       "      <td>apelbaum</td>\n",
       "      <td>5.0</td>\n",
       "    </tr>\n",
       "    <tr>\n",
       "      <th>...</th>\n",
       "      <td>...</td>\n",
       "      <td>...</td>\n",
       "    </tr>\n",
       "    <tr>\n",
       "      <th>4043</th>\n",
       "      <td>힐탑아파트차</td>\n",
       "      <td>12.0</td>\n",
       "    </tr>\n",
       "    <tr>\n",
       "      <th>4044</th>\n",
       "      <td>힐탑이루미</td>\n",
       "      <td>24.0</td>\n",
       "    </tr>\n",
       "    <tr>\n",
       "      <th>4045</th>\n",
       "      <td>힐탑트레져동</td>\n",
       "      <td>12.0</td>\n",
       "    </tr>\n",
       "    <tr>\n",
       "      <th>4046</th>\n",
       "      <td>힐튼</td>\n",
       "      <td>5.0</td>\n",
       "    </tr>\n",
       "    <tr>\n",
       "      <th>4047</th>\n",
       "      <td>힐튼빌리지차</td>\n",
       "      <td>11.0</td>\n",
       "    </tr>\n",
       "  </tbody>\n",
       "</table>\n",
       "<p>4048 rows × 2 columns</p>\n",
       "</div>"
      ],
      "text/plain": [
       "              단어    빈도\n",
       "0            aaa  24.0\n",
       "1          ags드림   7.0\n",
       "2      airpalace  31.0\n",
       "3     andpra레지던스  25.0\n",
       "4       apelbaum   5.0\n",
       "...          ...   ...\n",
       "4043      힐탑아파트차  12.0\n",
       "4044       힐탑이루미  24.0\n",
       "4045      힐탑트레져동  12.0\n",
       "4046          힐튼   5.0\n",
       "4047      힐튼빌리지차  11.0\n",
       "\n",
       "[4048 rows x 2 columns]"
      ]
     },
     "execution_count": 28,
     "metadata": {
      "tags": []
     },
     "output_type": "execute_result"
    }
   ],
   "source": [
    "tv = TfidfVectorizer(min_df=5)\n",
    "tfidf = tv.fit_transform(apt)\n",
    "apt_tfidf = pd.DataFrame({\n",
    "    '단어' : tv.get_feature_names(),\n",
    "    '빈도' : tfidf.sum(axis=0).flat\n",
    "})\n",
    "apt_tfidf"
   ]
  },
  {
   "cell_type": "markdown",
   "metadata": {
    "id": "KvNLrZxDDUC5"
   },
   "source": [
    "##4.4 질문"
   ]
  },
  {
   "cell_type": "markdown",
   "metadata": {
    "id": "IWyFbRVeDWAB"
   },
   "source": []
  },
  {
   "cell_type": "markdown",
   "metadata": {
    "id": "J5w0ecq9EG2j"
   },
   "source": [
    "#5.인코딩"
   ]
  },
  {
   "cell_type": "markdown",
   "metadata": {
    "id": "xTp6oWgeEI8r"
   },
   "source": [
    "##5.1 원핫 인코딩"
   ]
  },
  {
   "cell_type": "code",
   "execution_count": 29,
   "metadata": {
    "id": "KUAa6UxcELOI"
   },
   "outputs": [],
   "source": [
    "data = data.drop(columns= ['addr_kr'])"
   ]
  },
  {
   "cell_type": "code",
   "execution_count": 30,
   "metadata": {
    "id": "feIZlesCEVfq"
   },
   "outputs": [],
   "source": [
    "data_onehot = pd.get_dummies(data[['dong','apt']])"
   ]
  },
  {
   "cell_type": "code",
   "execution_count": 31,
   "metadata": {
    "colab": {
     "base_uri": "https://localhost:8080/"
    },
    "id": "nsqb2qY0IG6V",
    "outputId": "a5592990-ec14-404a-dea6-a92020fe70e3"
   },
   "outputs": [
    {
     "data": {
      "text/plain": [
       "(513528, 7094)"
      ]
     },
     "execution_count": 31,
     "metadata": {
      "tags": []
     },
     "output_type": "execute_result"
    }
   ],
   "source": [
    "data_onehot.shape"
   ]
  },
  {
   "cell_type": "markdown",
   "metadata": {
    "id": "7aOJWmzQHkzx"
   },
   "source": [
    "데이터프레임의 차원이 지나치게 커지므로 적절하지 않습니다."
   ]
  },
  {
   "cell_type": "markdown",
   "metadata": {
    "id": "Aet7PNyRHn38"
   },
   "source": [
    "##5.2 레이블(label) 인코딩 - transaction_year"
   ]
  },
  {
   "cell_type": "code",
   "execution_count": 32,
   "metadata": {
    "colab": {
     "base_uri": "https://localhost:8080/",
     "height": 204
    },
    "id": "40ELM9epHU6P",
    "outputId": "682cf112-d5bd-4b8c-e06c-a27e38d0de5b"
   },
   "outputs": [
    {
     "data": {
      "text/html": [
       "<div>\n",
       "<style scoped>\n",
       "    .dataframe tbody tr th:only-of-type {\n",
       "        vertical-align: middle;\n",
       "    }\n",
       "\n",
       "    .dataframe tbody tr th {\n",
       "        vertical-align: top;\n",
       "    }\n",
       "\n",
       "    .dataframe thead th {\n",
       "        text-align: right;\n",
       "    }\n",
       "</style>\n",
       "<table border=\"1\" class=\"dataframe\">\n",
       "  <thead>\n",
       "    <tr style=\"text-align: right;\">\n",
       "      <th></th>\n",
       "      <th>dong</th>\n",
       "      <th>apt</th>\n",
       "      <th>exclusive_use_area</th>\n",
       "      <th>floor</th>\n",
       "      <th>price</th>\n",
       "      <th>transaction_year</th>\n",
       "      <th>until_trans</th>\n",
       "      <th>sin_date</th>\n",
       "      <th>cos_date</th>\n",
       "    </tr>\n",
       "  </thead>\n",
       "  <tbody>\n",
       "    <tr>\n",
       "      <th>0</th>\n",
       "      <td>사직동</td>\n",
       "      <td>광화문풍림스페이스본(9-0)</td>\n",
       "      <td>95.88</td>\n",
       "      <td>6</td>\n",
       "      <td>70000</td>\n",
       "      <td>0</td>\n",
       "      <td>5</td>\n",
       "      <td>-2.939152e-15</td>\n",
       "      <td>1.0</td>\n",
       "    </tr>\n",
       "    <tr>\n",
       "      <th>1</th>\n",
       "      <td>사직동</td>\n",
       "      <td>광화문풍림스페이스본(9-0)</td>\n",
       "      <td>108.55</td>\n",
       "      <td>11</td>\n",
       "      <td>100500</td>\n",
       "      <td>0</td>\n",
       "      <td>5</td>\n",
       "      <td>-3.918870e-15</td>\n",
       "      <td>1.0</td>\n",
       "    </tr>\n",
       "    <tr>\n",
       "      <th>2</th>\n",
       "      <td>사직동</td>\n",
       "      <td>광화문풍림스페이스본(9-0)</td>\n",
       "      <td>94.51</td>\n",
       "      <td>1</td>\n",
       "      <td>65800</td>\n",
       "      <td>0</td>\n",
       "      <td>5</td>\n",
       "      <td>-3.918870e-15</td>\n",
       "      <td>1.0</td>\n",
       "    </tr>\n",
       "    <tr>\n",
       "      <th>3</th>\n",
       "      <td>수송동</td>\n",
       "      <td>로얄팰리스스위트</td>\n",
       "      <td>42.87</td>\n",
       "      <td>8</td>\n",
       "      <td>30500</td>\n",
       "      <td>0</td>\n",
       "      <td>8</td>\n",
       "      <td>-2.939152e-15</td>\n",
       "      <td>1.0</td>\n",
       "    </tr>\n",
       "    <tr>\n",
       "      <th>4</th>\n",
       "      <td>수송동</td>\n",
       "      <td>로얄팰리스스위트</td>\n",
       "      <td>39.67</td>\n",
       "      <td>15</td>\n",
       "      <td>30500</td>\n",
       "      <td>0</td>\n",
       "      <td>8</td>\n",
       "      <td>-4.898587e-15</td>\n",
       "      <td>1.0</td>\n",
       "    </tr>\n",
       "  </tbody>\n",
       "</table>\n",
       "</div>"
      ],
      "text/plain": [
       "  dong              apt  ...      sin_date  cos_date\n",
       "0  사직동  광화문풍림스페이스본(9-0)  ... -2.939152e-15       1.0\n",
       "1  사직동  광화문풍림스페이스본(9-0)  ... -3.918870e-15       1.0\n",
       "2  사직동  광화문풍림스페이스본(9-0)  ... -3.918870e-15       1.0\n",
       "3  수송동         로얄팰리스스위트  ... -2.939152e-15       1.0\n",
       "4  수송동         로얄팰리스스위트  ... -4.898587e-15       1.0\n",
       "\n",
       "[5 rows x 9 columns]"
      ]
     },
     "execution_count": 32,
     "metadata": {
      "tags": []
     },
     "output_type": "execute_result"
    }
   ],
   "source": [
    "data['transaction_year'] = data['transaction_year'].astype('category').cat.codes\n",
    "data.head()"
   ]
  },
  {
   "cell_type": "markdown",
   "metadata": {
    "id": "fubTl5utJeGH"
   },
   "source": []
  },
  {
   "cell_type": "markdown",
   "metadata": {
    "id": "_TTPsXO2JphU"
   },
   "source": [
    "##5.3 레이블(label) 인코딩"
   ]
  },
  {
   "cell_type": "code",
   "execution_count": 33,
   "metadata": {
    "colab": {
     "base_uri": "https://localhost:8080/",
     "height": 204
    },
    "id": "Rp6yqHyTJtxK",
    "outputId": "b67c51a0-5cbf-4826-95f9-327b2380ef66"
   },
   "outputs": [
    {
     "data": {
      "text/html": [
       "<div>\n",
       "<style scoped>\n",
       "    .dataframe tbody tr th:only-of-type {\n",
       "        vertical-align: middle;\n",
       "    }\n",
       "\n",
       "    .dataframe tbody tr th {\n",
       "        vertical-align: top;\n",
       "    }\n",
       "\n",
       "    .dataframe thead th {\n",
       "        text-align: right;\n",
       "    }\n",
       "</style>\n",
       "<table border=\"1\" class=\"dataframe\">\n",
       "  <thead>\n",
       "    <tr style=\"text-align: right;\">\n",
       "      <th></th>\n",
       "      <th>dong</th>\n",
       "      <th>apt</th>\n",
       "      <th>exclusive_use_area</th>\n",
       "      <th>floor</th>\n",
       "      <th>price</th>\n",
       "      <th>transaction_year</th>\n",
       "      <th>until_trans</th>\n",
       "      <th>sin_date</th>\n",
       "      <th>cos_date</th>\n",
       "    </tr>\n",
       "  </thead>\n",
       "  <tbody>\n",
       "    <tr>\n",
       "      <th>0</th>\n",
       "      <td>130</td>\n",
       "      <td>805</td>\n",
       "      <td>95.88</td>\n",
       "      <td>6</td>\n",
       "      <td>70000</td>\n",
       "      <td>0</td>\n",
       "      <td>5</td>\n",
       "      <td>-2.939152e-15</td>\n",
       "      <td>1.0</td>\n",
       "    </tr>\n",
       "    <tr>\n",
       "      <th>1</th>\n",
       "      <td>130</td>\n",
       "      <td>805</td>\n",
       "      <td>108.55</td>\n",
       "      <td>11</td>\n",
       "      <td>100500</td>\n",
       "      <td>0</td>\n",
       "      <td>5</td>\n",
       "      <td>-3.918870e-15</td>\n",
       "      <td>1.0</td>\n",
       "    </tr>\n",
       "    <tr>\n",
       "      <th>2</th>\n",
       "      <td>130</td>\n",
       "      <td>805</td>\n",
       "      <td>94.51</td>\n",
       "      <td>1</td>\n",
       "      <td>65800</td>\n",
       "      <td>0</td>\n",
       "      <td>5</td>\n",
       "      <td>-3.918870e-15</td>\n",
       "      <td>1.0</td>\n",
       "    </tr>\n",
       "    <tr>\n",
       "      <th>3</th>\n",
       "      <td>164</td>\n",
       "      <td>2042</td>\n",
       "      <td>42.87</td>\n",
       "      <td>8</td>\n",
       "      <td>30500</td>\n",
       "      <td>0</td>\n",
       "      <td>8</td>\n",
       "      <td>-2.939152e-15</td>\n",
       "      <td>1.0</td>\n",
       "    </tr>\n",
       "    <tr>\n",
       "      <th>4</th>\n",
       "      <td>164</td>\n",
       "      <td>2042</td>\n",
       "      <td>39.67</td>\n",
       "      <td>15</td>\n",
       "      <td>30500</td>\n",
       "      <td>0</td>\n",
       "      <td>8</td>\n",
       "      <td>-4.898587e-15</td>\n",
       "      <td>1.0</td>\n",
       "    </tr>\n",
       "  </tbody>\n",
       "</table>\n",
       "</div>"
      ],
      "text/plain": [
       "   dong   apt  exclusive_use_area  ...  until_trans      sin_date  cos_date\n",
       "0   130   805               95.88  ...            5 -2.939152e-15       1.0\n",
       "1   130   805              108.55  ...            5 -3.918870e-15       1.0\n",
       "2   130   805               94.51  ...            5 -3.918870e-15       1.0\n",
       "3   164  2042               42.87  ...            8 -2.939152e-15       1.0\n",
       "4   164  2042               39.67  ...            8 -4.898587e-15       1.0\n",
       "\n",
       "[5 rows x 9 columns]"
      ]
     },
     "execution_count": 33,
     "metadata": {
      "tags": []
     },
     "output_type": "execute_result"
    }
   ],
   "source": [
    "data_label = data\n",
    "data_label['dong'] = data_label['dong'].astype('category').cat.codes\n",
    "data_label['apt'] = data_label['apt'].astype('category').cat.codes\n",
    "\n",
    "data_label.head()"
   ]
  },
  {
   "cell_type": "markdown",
   "metadata": {
    "id": "XGoHjvapMOE2"
   },
   "source": [
    "dong과 apt변수 내 값들에 순서가 없는데  \n",
    "순서가 존재하는 숫자 값으로 표현되기 때문에 적절하지 않습니다."
   ]
  },
  {
   "cell_type": "markdown",
   "metadata": {
    "id": "3P1DtVPzMKAS"
   },
   "source": [
    "##5.4 mean_encoding"
   ]
  },
  {
   "cell_type": "code",
   "execution_count": 34,
   "metadata": {
    "colab": {
     "base_uri": "https://localhost:8080/",
     "height": 204
    },
    "id": "1tCCP5GVMQ2Q",
    "outputId": "72f23328-b9d2-4f56-811c-4c4a4daaa251"
   },
   "outputs": [
    {
     "data": {
      "text/html": [
       "<div>\n",
       "<style scoped>\n",
       "    .dataframe tbody tr th:only-of-type {\n",
       "        vertical-align: middle;\n",
       "    }\n",
       "\n",
       "    .dataframe tbody tr th {\n",
       "        vertical-align: top;\n",
       "    }\n",
       "\n",
       "    .dataframe thead th {\n",
       "        text-align: right;\n",
       "    }\n",
       "</style>\n",
       "<table border=\"1\" class=\"dataframe\">\n",
       "  <thead>\n",
       "    <tr style=\"text-align: right;\">\n",
       "      <th></th>\n",
       "      <th>dong</th>\n",
       "      <th>apt</th>\n",
       "      <th>exclusive_use_area</th>\n",
       "      <th>floor</th>\n",
       "      <th>price</th>\n",
       "      <th>transaction_year</th>\n",
       "      <th>until_trans</th>\n",
       "      <th>sin_date</th>\n",
       "      <th>cos_date</th>\n",
       "    </tr>\n",
       "  </thead>\n",
       "  <tbody>\n",
       "    <tr>\n",
       "      <th>0</th>\n",
       "      <td>130</td>\n",
       "      <td>91174.766355</td>\n",
       "      <td>95.88</td>\n",
       "      <td>6</td>\n",
       "      <td>70000</td>\n",
       "      <td>0</td>\n",
       "      <td>5</td>\n",
       "      <td>-2.939152e-15</td>\n",
       "      <td>1.0</td>\n",
       "    </tr>\n",
       "    <tr>\n",
       "      <th>1</th>\n",
       "      <td>130</td>\n",
       "      <td>91174.766355</td>\n",
       "      <td>108.55</td>\n",
       "      <td>11</td>\n",
       "      <td>100500</td>\n",
       "      <td>0</td>\n",
       "      <td>5</td>\n",
       "      <td>-3.918870e-15</td>\n",
       "      <td>1.0</td>\n",
       "    </tr>\n",
       "    <tr>\n",
       "      <th>2</th>\n",
       "      <td>130</td>\n",
       "      <td>91174.766355</td>\n",
       "      <td>94.51</td>\n",
       "      <td>1</td>\n",
       "      <td>65800</td>\n",
       "      <td>0</td>\n",
       "      <td>5</td>\n",
       "      <td>-3.918870e-15</td>\n",
       "      <td>1.0</td>\n",
       "    </tr>\n",
       "    <tr>\n",
       "      <th>3</th>\n",
       "      <td>164</td>\n",
       "      <td>36609.649123</td>\n",
       "      <td>42.87</td>\n",
       "      <td>8</td>\n",
       "      <td>30500</td>\n",
       "      <td>0</td>\n",
       "      <td>8</td>\n",
       "      <td>-2.939152e-15</td>\n",
       "      <td>1.0</td>\n",
       "    </tr>\n",
       "    <tr>\n",
       "      <th>4</th>\n",
       "      <td>164</td>\n",
       "      <td>36609.649123</td>\n",
       "      <td>39.67</td>\n",
       "      <td>15</td>\n",
       "      <td>30500</td>\n",
       "      <td>0</td>\n",
       "      <td>8</td>\n",
       "      <td>-4.898587e-15</td>\n",
       "      <td>1.0</td>\n",
       "    </tr>\n",
       "  </tbody>\n",
       "</table>\n",
       "</div>"
      ],
      "text/plain": [
       "   dong           apt  exclusive_use_area  ...  until_trans      sin_date  cos_date\n",
       "0   130  91174.766355               95.88  ...            5 -2.939152e-15       1.0\n",
       "1   130  91174.766355              108.55  ...            5 -3.918870e-15       1.0\n",
       "2   130  91174.766355               94.51  ...            5 -3.918870e-15       1.0\n",
       "3   164  36609.649123               42.87  ...            8 -2.939152e-15       1.0\n",
       "4   164  36609.649123               39.67  ...            8 -4.898587e-15       1.0\n",
       "\n",
       "[5 rows x 9 columns]"
      ]
     },
     "execution_count": 34,
     "metadata": {
      "tags": []
     },
     "output_type": "execute_result"
    }
   ],
   "source": [
    "data_mean = data\n",
    "mean_apt = data_mean.groupby('apt')['price'].mean()\n",
    "data_mean['apt'] = data_mean['apt'].map(mean_apt)\n",
    "data_mean.head()"
   ]
  },
  {
   "cell_type": "markdown",
   "metadata": {
    "id": "V87Ud2GYWh--"
   },
   "source": [
    "원핫 인코딩에 비해 만들어지는 변수가 적어 차원의 저주에 걸리지 않으며 속도또한 빠릅니다.  \n",
    "단점은 오버피팅이 일어날 수 있다는 겁니다.  \n",
    "trainset의 mean으로만 학습된 상태인데 만약 trainset의 분포가 한쪽으로 치우쳐 있는 상태라면 오버피팅이 발생합니다."
   ]
  }
 ],
 "metadata": {
  "colab": {
   "collapsed_sections": [],
   "name": "주제분석 1주차.ipynb",
   "provenance": []
  },
  "kernelspec": {
   "display_name": "Python 3",
   "language": "python",
   "name": "python3"
  },
  "language_info": {
   "codemirror_mode": {
    "name": "ipython",
    "version": 3
   },
   "file_extension": ".py",
   "mimetype": "text/x-python",
   "name": "python",
   "nbconvert_exporter": "python",
   "pygments_lexer": "ipython3",
   "version": "3.8.5"
  }
 },
 "nbformat": 4,
 "nbformat_minor": 1
}
